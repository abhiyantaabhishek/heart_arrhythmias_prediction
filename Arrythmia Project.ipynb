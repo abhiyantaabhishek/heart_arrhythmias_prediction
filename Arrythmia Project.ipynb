{
  "nbformat": 4,
  "nbformat_minor": 0,
  "metadata": {
    "kernelspec": {
      "display_name": "tutorials",
      "language": "python",
      "name": "tutorials"
    },
    "language_info": {
      "codemirror_mode": {
        "name": "ipython",
        "version": 3
      },
      "file_extension": ".py",
      "mimetype": "text/x-python",
      "name": "python",
      "nbconvert_exporter": "python",
      "pygments_lexer": "ipython3",
      "version": "3.6.9"
    },
    "colab": {
      "name": "Arrythmia Project.ipynb",
      "provenance": [],
      "include_colab_link": true
    }
  },
  "cells": [
    {
      "cell_type": "markdown",
      "metadata": {
        "id": "view-in-github",
        "colab_type": "text"
      },
      "source": [
        "<a href=\"https://colab.research.google.com/github/abhiyantaabhishek/heart_arrhythmias_prediction/blob/main/Arrythmia%20Project.ipynb\" target=\"_parent\"><img src=\"https://colab.research.google.com/assets/colab-badge.svg\" alt=\"Open In Colab\"/></a>"
      ]
    },
    {
      "cell_type": "markdown",
      "metadata": {
        "id": "erpCR1smVp0q"
      },
      "source": [
        "# Introduction"
      ]
    },
    {
      "cell_type": "markdown",
      "metadata": {
        "id": "IOY5OsSdVp01"
      },
      "source": [
        "Recently, I was reviewing Andrew Ng's team's work(https://stanfordmlgroup.github.io/projects/ecg/) on heart arrhythmia detector with convolutional neural networks (CNN). I found this quite fascinating especially with emergence of wearable products (e.g. Apple Watch and portable EKG machines) that are capable of monitoring your heart while at home. As such, I was curious how to build a machine learning algorithm that could detect abnormal heart beats. Here we will use an ECG signal (continuous electrical measurement of the heart) and train 3 neural networks to predict heart arrythmias: dense neural network, CNN, and LSTM.  "
      ]
    },
    {
      "cell_type": "markdown",
      "metadata": {
        "id": "WGtRcyNNVp03"
      },
      "source": [
        "# Dataset"
      ]
    },
    {
      "cell_type": "markdown",
      "metadata": {
        "id": "JvuxAHw1Vp03"
      },
      "source": [
        "We will use the MIH-BIH Arrythmia dataset from https://physionet.org/content/mitdb/1.0.0/. This is a dataset with 48 half-hour two-channel ECG recordings measured at 360 Hz. The recordings have annotations from cardiologists for each heart beat. The symbols for the annotations can be found at https://archive.physionet.org/physiobank/annotations.shtml"
      ]
    },
    {
      "cell_type": "markdown",
      "metadata": {
        "id": "bMWTTIOxVp04"
      },
      "source": [
        "# Project Definition"
      ]
    },
    {
      "cell_type": "markdown",
      "metadata": {
        "id": "-EHf_hCrVp04"
      },
      "source": [
        "Predict if a heart beat from the first ECG signal has an arrhythmia for each 6 second window centered on the peak of the heart beat. "
      ]
    },
    {
      "cell_type": "markdown",
      "metadata": {
        "id": "ex2yCx03Vp05"
      },
      "source": [
        "To simplify the problem, we will assume that a QRS detector is capable of automatically identifying the peak of each heart beat. We will ignore any non-beat annotations and any heart beats in the first or last 3 seconds of the recording due to reduced data. We will use a window of 6 seconds so we can compare the current beat to beats just before and after. This decision was based after talking to a physician who said it is easier to identify if you have something to compare it to. "
      ]
    },
    {
      "cell_type": "markdown",
      "metadata": {
        "id": "r8aVB11hVp05"
      },
      "source": [
        "# Data Preparation"
      ]
    },
    {
      "cell_type": "code",
      "metadata": {
        "id": "WPaAA1D-Vp06"
      },
      "source": [
        "import pandas as pd\n",
        "import numpy as np\n",
        "import matplotlib.pyplot as plt\n",
        "from os import listdir\n"
      ],
      "execution_count": 1,
      "outputs": []
    },
    {
      "cell_type": "code",
      "metadata": {
        "colab": {
          "base_uri": "https://localhost:8080/"
        },
        "id": "D6xU8FHqV7_9",
        "outputId": "6311b35f-2441-49d6-de90-7b48399a8833"
      },
      "source": [
        "!wget https://storage.googleapis.com/mitdb-1.0.0.physionet.org/mit-bih-arrhythmia-database-1.0.0.zip"
      ],
      "execution_count": 2,
      "outputs": [
        {
          "output_type": "stream",
          "text": [
            "--2021-03-07 10:59:59--  https://storage.googleapis.com/mitdb-1.0.0.physionet.org/mit-bih-arrhythmia-database-1.0.0.zip\n",
            "Resolving storage.googleapis.com (storage.googleapis.com)... 142.250.1.128, 142.250.128.128, 74.125.126.128, ...\n",
            "Connecting to storage.googleapis.com (storage.googleapis.com)|142.250.1.128|:443... connected.\n",
            "HTTP request sent, awaiting response... 200 OK\n",
            "Length: 77030320 (73M) [application/zip]\n",
            "Saving to: ‘mit-bih-arrhythmia-database-1.0.0.zip’\n",
            "\n",
            "mit-bih-arrhythmia- 100%[===================>]  73.46M   116MB/s    in 0.6s    \n",
            "\n",
            "2021-03-07 11:00:00 (116 MB/s) - ‘mit-bih-arrhythmia-database-1.0.0.zip’ saved [77030320/77030320]\n",
            "\n"
          ],
          "name": "stdout"
        }
      ]
    },
    {
      "cell_type": "code",
      "metadata": {
        "id": "4cu41U04WB7t"
      },
      "source": [
        "!unzip mit-bih-arrhythmia-database-1.0.0.zip"
      ],
      "execution_count": null,
      "outputs": []
    },
    {
      "cell_type": "code",
      "metadata": {
        "id": "W2pOPu04Vp07"
      },
      "source": [
        "# data must be downloaded and path provided\n",
        "data_path = 'mit-bih-arrhythmia-database-1.0.0/'\n"
      ],
      "execution_count": 6,
      "outputs": []
    },
    {
      "cell_type": "code",
      "metadata": {
        "id": "xhd3jNgQVp07"
      },
      "source": [
        "# list of patients\n",
        "pts = ['100','101','102','103','104','105','106','107',\n",
        "       '108','109','111','112','113','114','115','116',\n",
        "       '117','118','119','121','122','123','124','200',\n",
        "       '201','202','203','205','207','208','209','210',\n",
        "       '212','213','214','215','217','219','220','221',\n",
        "       '222','223','228','230','231','232','233','234']"
      ],
      "execution_count": 7,
      "outputs": []
    },
    {
      "cell_type": "markdown",
      "metadata": {
        "id": "A4mgNIMTVp08"
      },
      "source": [
        "Here we will use a pypi package wfdb for loading the ecg and annotations.  "
      ]
    },
    {
      "cell_type": "code",
      "metadata": {
        "id": "Xm_2lan4WYpH"
      },
      "source": [
        "!pip install wfdb"
      ],
      "execution_count": null,
      "outputs": []
    },
    {
      "cell_type": "code",
      "metadata": {
        "id": "WEqmzEZAVp08"
      },
      "source": [
        "import wfdb"
      ],
      "execution_count": 11,
      "outputs": []
    },
    {
      "cell_type": "markdown",
      "metadata": {
        "id": "yj3SVjSbVp09"
      },
      "source": [
        "Let's load all the annotations and see the distribution of heart beat types across all files. "
      ]
    },
    {
      "cell_type": "code",
      "metadata": {
        "id": "sMIgBFjCVp09"
      },
      "source": [
        "df = pd.DataFrame()\n",
        "\n",
        "for pt in pts:\n",
        "    file = data_path + pt\n",
        "    annotation = wfdb.rdann(file, 'atr')\n",
        "    sym = annotation.symbol\n",
        "    \n",
        "    values, counts = np.unique(sym, return_counts=True)\n",
        "    df_sub = pd.DataFrame({'sym':values, 'val':counts, 'pt':[pt]*len(counts)})\n",
        "    df = pd.concat([df, df_sub],axis = 0)"
      ],
      "execution_count": 12,
      "outputs": []
    },
    {
      "cell_type": "code",
      "metadata": {
        "colab": {
          "base_uri": "https://localhost:8080/",
          "height": 419
        },
        "id": "PZ4IoibYWhYN",
        "outputId": "cc8c7d62-c96f-4088-a59c-d9fcd34d9a8b"
      },
      "source": [
        "df"
      ],
      "execution_count": 13,
      "outputs": [
        {
          "output_type": "execute_result",
          "data": {
            "text/html": [
              "<div>\n",
              "<style scoped>\n",
              "    .dataframe tbody tr th:only-of-type {\n",
              "        vertical-align: middle;\n",
              "    }\n",
              "\n",
              "    .dataframe tbody tr th {\n",
              "        vertical-align: top;\n",
              "    }\n",
              "\n",
              "    .dataframe thead th {\n",
              "        text-align: right;\n",
              "    }\n",
              "</style>\n",
              "<table border=\"1\" class=\"dataframe\">\n",
              "  <thead>\n",
              "    <tr style=\"text-align: right;\">\n",
              "      <th></th>\n",
              "      <th>sym</th>\n",
              "      <th>val</th>\n",
              "      <th>pt</th>\n",
              "    </tr>\n",
              "  </thead>\n",
              "  <tbody>\n",
              "    <tr>\n",
              "      <th>0</th>\n",
              "      <td>+</td>\n",
              "      <td>1</td>\n",
              "      <td>100</td>\n",
              "    </tr>\n",
              "    <tr>\n",
              "      <th>1</th>\n",
              "      <td>A</td>\n",
              "      <td>33</td>\n",
              "      <td>100</td>\n",
              "    </tr>\n",
              "    <tr>\n",
              "      <th>2</th>\n",
              "      <td>N</td>\n",
              "      <td>2239</td>\n",
              "      <td>100</td>\n",
              "    </tr>\n",
              "    <tr>\n",
              "      <th>3</th>\n",
              "      <td>V</td>\n",
              "      <td>1</td>\n",
              "      <td>100</td>\n",
              "    </tr>\n",
              "    <tr>\n",
              "      <th>0</th>\n",
              "      <td>+</td>\n",
              "      <td>1</td>\n",
              "      <td>101</td>\n",
              "    </tr>\n",
              "    <tr>\n",
              "      <th>...</th>\n",
              "      <td>...</td>\n",
              "      <td>...</td>\n",
              "      <td>...</td>\n",
              "    </tr>\n",
              "    <tr>\n",
              "      <th>0</th>\n",
              "      <td>+</td>\n",
              "      <td>3</td>\n",
              "      <td>234</td>\n",
              "    </tr>\n",
              "    <tr>\n",
              "      <th>1</th>\n",
              "      <td>J</td>\n",
              "      <td>50</td>\n",
              "      <td>234</td>\n",
              "    </tr>\n",
              "    <tr>\n",
              "      <th>2</th>\n",
              "      <td>N</td>\n",
              "      <td>2700</td>\n",
              "      <td>234</td>\n",
              "    </tr>\n",
              "    <tr>\n",
              "      <th>3</th>\n",
              "      <td>V</td>\n",
              "      <td>3</td>\n",
              "      <td>234</td>\n",
              "    </tr>\n",
              "    <tr>\n",
              "      <th>4</th>\n",
              "      <td>~</td>\n",
              "      <td>8</td>\n",
              "      <td>234</td>\n",
              "    </tr>\n",
              "  </tbody>\n",
              "</table>\n",
              "<p>283 rows × 3 columns</p>\n",
              "</div>"
            ],
            "text/plain": [
              "   sym   val   pt\n",
              "0    +     1  100\n",
              "1    A    33  100\n",
              "2    N  2239  100\n",
              "3    V     1  100\n",
              "0    +     1  101\n",
              "..  ..   ...  ...\n",
              "0    +     3  234\n",
              "1    J    50  234\n",
              "2    N  2700  234\n",
              "3    V     3  234\n",
              "4    ~     8  234\n",
              "\n",
              "[283 rows x 3 columns]"
            ]
          },
          "metadata": {
            "tags": []
          },
          "execution_count": 13
        }
      ]
    },
    {
      "cell_type": "code",
      "metadata": {
        "colab": {
          "base_uri": "https://localhost:8080/"
        },
        "id": "ZEVI6LgoVp0-",
        "outputId": "5857e268-866c-4bcd-916f-e3e17df3df1e"
      },
      "source": [
        "df.groupby('sym').val.sum().sort_values(ascending = False)"
      ],
      "execution_count": 14,
      "outputs": [
        {
          "output_type": "execute_result",
          "data": {
            "text/plain": [
              "sym\n",
              "N    75052\n",
              "L     8075\n",
              "R     7259\n",
              "V     7130\n",
              "/     7028\n",
              "A     2546\n",
              "+     1291\n",
              "f      982\n",
              "F      803\n",
              "~      616\n",
              "!      472\n",
              "\"      437\n",
              "j      229\n",
              "x      193\n",
              "a      150\n",
              "|      132\n",
              "E      106\n",
              "J       83\n",
              "Q       33\n",
              "e       16\n",
              "[        6\n",
              "]        6\n",
              "S        2\n",
              "Name: val, dtype: int64"
            ]
          },
          "metadata": {
            "tags": []
          },
          "execution_count": 14
        }
      ]
    },
    {
      "cell_type": "code",
      "metadata": {
        "id": "e8vgJDqlVp0_"
      },
      "source": [
        "# list of nonbeat and abnormal\n",
        "nonbeat = ['[','!',']','x','(',')','p','t','u','`',\n",
        "           '\\'','^','|','~','+','s','T','*','D','=','\"','@','Q','?']\n",
        "abnormal = ['L','R','V','/','A','f','F','j','a','E','J','e','S']"
      ],
      "execution_count": 15,
      "outputs": []
    },
    {
      "cell_type": "code",
      "metadata": {
        "id": "SQU0kP4GVp1A"
      },
      "source": [
        "# break into normal, abnormal or nonbeat\n",
        "df['cat'] = -1\n",
        "df.loc[df.sym == 'N','cat'] = 0\n",
        "df.loc[df.sym.isin(abnormal), 'cat'] = 1"
      ],
      "execution_count": 16,
      "outputs": []
    },
    {
      "cell_type": "code",
      "metadata": {
        "colab": {
          "base_uri": "https://localhost:8080/"
        },
        "id": "kstXudzNVp1B",
        "outputId": "e82a738a-d035-4a96-a79f-6c19e6cdc5b8"
      },
      "source": [
        "df.groupby('cat').val.sum()"
      ],
      "execution_count": 17,
      "outputs": [
        {
          "output_type": "execute_result",
          "data": {
            "text/plain": [
              "cat\n",
              "-1     3186\n",
              " 0    75052\n",
              " 1    34409\n",
              "Name: val, dtype: int64"
            ]
          },
          "metadata": {
            "tags": []
          },
          "execution_count": 17
        }
      ]
    },
    {
      "cell_type": "markdown",
      "metadata": {
        "id": "cAUbKfRFVp1C"
      },
      "source": [
        "Let's write a function for loading a single patient's signals and annotations. Note the annotation values are the indices of the signal array. "
      ]
    },
    {
      "cell_type": "code",
      "metadata": {
        "id": "yTayXzrRVp1C"
      },
      "source": [
        "def load_ecg(file):\n",
        "    # load the ecg\n",
        "    # example file: 'mit-bih-arrhythmia-database-1.0.0/101'\n",
        "    \n",
        "    # load the ecg\n",
        "    record = wfdb.rdrecord(file)\n",
        "    # load the annotation\n",
        "    annotation = wfdb.rdann(file, 'atr')\n",
        "    \n",
        "    # extract the signal\n",
        "    p_signal = record.p_signal\n",
        "    \n",
        "    # verify frequency is 360\n",
        "    assert record.fs == 360, 'sample freq is not 360'\n",
        "    \n",
        "    # extract symbols and annotation index\n",
        "    atr_sym = annotation.symbol\n",
        "    atr_sample = annotation.sample\n",
        "    \n",
        "    return p_signal, atr_sym, atr_sample "
      ],
      "execution_count": 18,
      "outputs": []
    },
    {
      "cell_type": "markdown",
      "metadata": {
        "id": "KxP42UbuVp1C"
      },
      "source": [
        "Let's check out what abnormal beats are in a patient's ecg:"
      ]
    },
    {
      "cell_type": "code",
      "metadata": {
        "id": "7WuvFPpiVp1D"
      },
      "source": [
        "file = data_path + pts[0]"
      ],
      "execution_count": 19,
      "outputs": []
    },
    {
      "cell_type": "code",
      "metadata": {
        "id": "Ptud_5VsVp1D"
      },
      "source": [
        "p_signal, atr_sym, atr_sample = load_ecg(file)"
      ],
      "execution_count": 20,
      "outputs": []
    },
    {
      "cell_type": "code",
      "metadata": {
        "colab": {
          "base_uri": "https://localhost:8080/"
        },
        "id": "I2NunxsfVp1D",
        "outputId": "9f74e600-dbdc-46d1-da17-88115324183b"
      },
      "source": [
        "values, counts = np.unique(sym, return_counts=True)\n",
        "for v,c in zip(values, counts):\n",
        "    print(v,c)"
      ],
      "execution_count": 21,
      "outputs": [
        {
          "output_type": "stream",
          "text": [
            "+ 3\n",
            "J 50\n",
            "N 2700\n",
            "V 3\n",
            "~ 8\n"
          ],
          "name": "stdout"
        }
      ]
    },
    {
      "cell_type": "markdown",
      "metadata": {
        "id": "SlFZ-XiBVp1E"
      },
      "source": [
        "Let's make a plot of these, zooming in on one of the abnormal beats"
      ]
    },
    {
      "cell_type": "code",
      "metadata": {
        "colab": {
          "base_uri": "https://localhost:8080/"
        },
        "id": "vvDi2csGVp1E",
        "outputId": "c1c7ca0f-71ba-430e-e636-27a83476182f"
      },
      "source": [
        "# get abnormal beat index\n",
        "ab_index = [b for a,b in zip(atr_sym,atr_sample) if a in abnormal][:10]\n",
        "ab_index"
      ],
      "execution_count": 22,
      "outputs": [
        {
          "output_type": "execute_result",
          "data": {
            "text/plain": [
              "[2044, 66792, 74986, 99579, 128085, 170719, 279576, 305709, 307745, 312825]"
            ]
          },
          "metadata": {
            "tags": []
          },
          "execution_count": 22
        }
      ]
    },
    {
      "cell_type": "code",
      "metadata": {
        "id": "35HRSSB0Vp1G"
      },
      "source": [
        "x = np.arange(len(p_signal))"
      ],
      "execution_count": 23,
      "outputs": []
    },
    {
      "cell_type": "code",
      "metadata": {
        "colab": {
          "base_uri": "https://localhost:8080/",
          "height": 279
        },
        "id": "xTfJEGX8Vp1G",
        "outputId": "12060e68-a941-413f-c54f-014cf7b93ec5"
      },
      "source": [
        "left = ab_index[1]-1080\n",
        "right = ab_index[1]+1080\n",
        "\n",
        "plt.plot(x[left:right],p_signal[left:right,0],'-',label='ecg',)\n",
        "plt.plot(x[atr_sample],p_signal[atr_sample,0],'go',label ='normal')\n",
        "plt.plot(x[ab_index],p_signal[ab_index,0],'ro',label='abnormal')\n",
        "\n",
        "plt.xlim(left,right)\n",
        "plt.ylim(p_signal[left:right].min()-0.05,p_signal[left:right,0].max()+0.05)\n",
        "plt.xlabel('time index')\n",
        "plt.ylabel('ECG signal')\n",
        "plt.legend(bbox_to_anchor = (1.04,1), loc = 'upper left')\n",
        "plt.show()"
      ],
      "execution_count": 24,
      "outputs": [
        {
          "output_type": "display_data",
          "data": {
            "image/png": "[encoded data removed]",
            "text/plain": [
              "<Figure size 432x288 with 1 Axes>"
            ]
          },
          "metadata": {
            "tags": [],
            "needs_background": "light"
          }
        }
      ]
    },
    {
      "cell_type": "markdown",
      "metadata": {
        "id": "I6ez4TGOVp1H"
      },
      "source": [
        "# Make a dataset"
      ]
    },
    {
      "cell_type": "markdown",
      "metadata": {
        "id": "1e1z0bsMVp1H"
      },
      "source": [
        "Let's make a dataset that is centered on beats with +- 3 seconds before and after. "
      ]
    },
    {
      "cell_type": "code",
      "metadata": {
        "id": "FwS7UFjpVp1H"
      },
      "source": [
        "def make_dataset(pts, num_sec, fs, abnormal):\n",
        "    # function for making dataset ignoring non-beats\n",
        "    # input:\n",
        "    # pts - list of patients\n",
        "    # num_sec = number of seconds to include before and after the beat\n",
        "    # fs = frequency\n",
        "    # output: \n",
        "    #   X_all = signal (nbeats , num_sec * fs columns)\n",
        "    #   Y_all = binary is abnormal (nbeats, 1)\n",
        "    #   sym_all = beat annotation symbol (nbeats,1)\n",
        "    \n",
        "    # initialize numpy arrays\n",
        "    num_cols = 2*num_sec * fs\n",
        "    X_all = np.zeros((1,num_cols))\n",
        "    Y_all = np.zeros((1,1))\n",
        "    sym_all = []\n",
        "    \n",
        "    # list to keep track of number of beats across patients\n",
        "    max_rows = []\n",
        "    \n",
        "    for pt in pts:\n",
        "        file = data_path + pt\n",
        "        \n",
        "        p_signal, atr_sym, atr_sample = load_ecg(file)\n",
        "        \n",
        "        # grab the first signal\n",
        "        p_signal = p_signal[:,0]\n",
        "        \n",
        "        # make df to exclude the nonbeats\n",
        "        df_ann = pd.DataFrame({'atr_sym':atr_sym,\n",
        "                              'atr_sample':atr_sample})\n",
        "        df_ann = df_ann.loc[df_ann.atr_sym.isin(abnormal + ['N'])]\n",
        "        \n",
        "        X,Y,sym = build_XY(p_signal,df_ann, num_cols, abnormal)\n",
        "        sym_all = sym_all+sym\n",
        "        max_rows.append(X.shape[0])\n",
        "        X_all = np.append(X_all,X,axis = 0)\n",
        "        Y_all = np.append(Y_all,Y,axis = 0)\n",
        "    # drop the first zero row\n",
        "    X_all = X_all[1:,:]\n",
        "    Y_all = Y_all[1:,:]\n",
        "    \n",
        "    # check sizes make sense\n",
        "    assert np.sum(max_rows) == X_all.shape[0], 'number of X, max_rows rows messed up'\n",
        "    assert Y_all.shape[0] == X_all.shape[0], 'number of X, Y rows messed up'\n",
        "    assert Y_all.shape[0] == len(sym_all), 'number of Y, sym rows messed up'\n",
        "\n",
        "    return X_all, Y_all, sym_all\n",
        "\n",
        "\n",
        "\n",
        "def build_XY(p_signal, df_ann, num_cols, abnormal):\n",
        "    # this function builds the X,Y matrices for each beat\n",
        "    # it also returns the original symbols for Y\n",
        "    \n",
        "    num_rows = len(df_ann)\n",
        "\n",
        "    X = np.zeros((num_rows, num_cols))\n",
        "    Y = np.zeros((num_rows,1))\n",
        "    sym = []\n",
        "    \n",
        "    # keep track of rows\n",
        "    max_row = 0\n",
        "\n",
        "    for atr_sample, atr_sym in zip(df_ann.atr_sample.values,df_ann.atr_sym.values):\n",
        "\n",
        "        left = max([0,(atr_sample - num_sec*fs) ])\n",
        "        right = min([len(p_signal),(atr_sample + num_sec*fs) ])\n",
        "        x = p_signal[left: right]\n",
        "        if len(x) == num_cols:\n",
        "            X[max_row,:] = x\n",
        "            Y[max_row,:] = int(atr_sym in abnormal)\n",
        "            sym.append(atr_sym)\n",
        "            max_row += 1\n",
        "    X = X[:max_row,:]\n",
        "    Y = Y[:max_row,:]\n",
        "    return X,Y,sym\n",
        "    "
      ],
      "execution_count": 25,
      "outputs": []
    },
    {
      "cell_type": "markdown",
      "metadata": {
        "id": "sz5E9YuKVp1N"
      },
      "source": [
        "# Lesson 1: split on patients not on samples"
      ]
    },
    {
      "cell_type": "markdown",
      "metadata": {
        "id": "KVhl0V77Vp1S"
      },
      "source": [
        "Let's start by processing all of our patients."
      ]
    },
    {
      "cell_type": "code",
      "metadata": {
        "id": "cgHF8b_TVp1S"
      },
      "source": [
        "num_sec = 3\n",
        "fs = 360"
      ],
      "execution_count": 26,
      "outputs": []
    },
    {
      "cell_type": "code",
      "metadata": {
        "id": "dbaIuIi-Vp1T"
      },
      "source": [
        "X_all, Y_all, sym_all = make_dataset(pts, num_sec, fs, abnormal)"
      ],
      "execution_count": 27,
      "outputs": []
    },
    {
      "cell_type": "markdown",
      "metadata": {
        "id": "FRwzLdEeVp1T"
      },
      "source": [
        "Imagine we naively just decided to randomly split our data by samples into a train and validation set. "
      ]
    },
    {
      "cell_type": "code",
      "metadata": {
        "id": "9SzgD7zfVp1U"
      },
      "source": [
        "from sklearn.model_selection import train_test_split\n",
        "\n",
        "X_train, X_valid, y_train, y_valid = train_test_split(X_all, Y_all, test_size=0.33, random_state=42)"
      ],
      "execution_count": 28,
      "outputs": []
    },
    {
      "cell_type": "markdown",
      "metadata": {
        "id": "ObnB7KAMVp1V"
      },
      "source": [
        "Now we are ready to build our first dense NN. We will do this in Keras for simplicity. "
      ]
    },
    {
      "cell_type": "code",
      "metadata": {
        "id": "g1R8044qVp1W"
      },
      "source": [
        "from keras.models import Sequential\n",
        "from keras.layers import Dense, Flatten, Dropout\n",
        "from keras.utils import to_categorical"
      ],
      "execution_count": 29,
      "outputs": []
    },
    {
      "cell_type": "code",
      "metadata": {
        "id": "CAznHogzVp1X"
      },
      "source": [
        "# build the same model\n",
        "# lets test out relu (a different activation function) and add drop out (for regularization)\n",
        "model = Sequential()\n",
        "model.add(Dense(32, activation = 'relu', input_dim = X_train.shape[1]))\n",
        "model.add(Dropout(rate = 0.25))\n",
        "model.add(Dense(1, activation = 'sigmoid'))"
      ],
      "execution_count": 30,
      "outputs": []
    },
    {
      "cell_type": "code",
      "metadata": {
        "id": "vT7YHAcuVp1X"
      },
      "source": [
        "# compile the model - use categorical crossentropy, and the adam optimizer\n",
        "model.compile(\n",
        "                loss = 'binary_crossentropy',\n",
        "                optimizer = 'adam',\n",
        "                metrics = ['accuracy'])"
      ],
      "execution_count": 31,
      "outputs": []
    },
    {
      "cell_type": "code",
      "metadata": {
        "colab": {
          "base_uri": "https://localhost:8080/"
        },
        "id": "2tB6TKTuVp1X",
        "outputId": "9039cb59-11e0-4ef9-ff5a-d2869c679a39"
      },
      "source": [
        "model.fit(X_train, y_train, batch_size = 32, epochs= 5, verbose = 1)"
      ],
      "execution_count": 32,
      "outputs": [
        {
          "output_type": "stream",
          "text": [
            "Epoch 1/5\n",
            "2285/2285 [==============================] - 5s 2ms/step - loss: 0.3315 - accuracy: 0.8628\n",
            "Epoch 2/5\n",
            "2285/2285 [==============================] - 4s 2ms/step - loss: 0.1650 - accuracy: 0.9468\n",
            "Epoch 3/5\n",
            "2285/2285 [==============================] - 4s 2ms/step - loss: 0.1395 - accuracy: 0.9552\n",
            "Epoch 4/5\n",
            "2285/2285 [==============================] - 5s 2ms/step - loss: 0.1332 - accuracy: 0.9588\n",
            "Epoch 5/5\n",
            "2285/2285 [==============================] - 5s 2ms/step - loss: 0.1207 - accuracy: 0.9618\n"
          ],
          "name": "stdout"
        },
        {
          "output_type": "execute_result",
          "data": {
            "text/plain": [
              "<tensorflow.python.keras.callbacks.History at 0x7f6a36083450>"
            ]
          },
          "metadata": {
            "tags": []
          },
          "execution_count": 32
        }
      ]
    },
    {
      "cell_type": "code",
      "metadata": {
        "id": "bDGO7uabVp1e"
      },
      "source": [
        "from sklearn.metrics import roc_auc_score, accuracy_score, precision_score, recall_score\n",
        "def calc_prevalence(y_actual):\n",
        "    return (sum(y_actual)/len(y_actual))\n",
        "def calc_specificity(y_actual, y_pred, thresh):\n",
        "    # calculates specificity\n",
        "    return sum((y_pred < thresh) & (y_actual == 0)) /sum(y_actual ==0)\n",
        "def print_report(y_actual, y_pred, thresh):\n",
        "    \n",
        "    auc = roc_auc_score(y_actual, y_pred)\n",
        "    accuracy = accuracy_score(y_actual, (y_pred > thresh))\n",
        "    recall = recall_score(y_actual, (y_pred > thresh))\n",
        "    precision = precision_score(y_actual, (y_pred > thresh))\n",
        "    specificity = calc_specificity(y_actual, y_pred, thresh)\n",
        "    print('AUC:%.3f'%auc)\n",
        "    print('accuracy:%.3f'%accuracy)\n",
        "    print('recall:%.3f'%recall)\n",
        "    print('precision:%.3f'%precision)\n",
        "    print('specificity:%.3f'%specificity)\n",
        "    print('prevalence:%.3f'%calc_prevalence(y_actual))\n",
        "    print(' ')\n",
        "    return auc, accuracy, recall, precision, specificity"
      ],
      "execution_count": 33,
      "outputs": []
    },
    {
      "cell_type": "code",
      "metadata": {
        "colab": {
          "base_uri": "https://localhost:8080/"
        },
        "id": "QLq8gomgVp1f",
        "outputId": "6a20d9a8-8fcf-44e3-ae80-c9a3db546954"
      },
      "source": [
        "y_train_preds_dense = model.predict_proba(X_train,verbose = 1)\n",
        "y_valid_preds_dense = model.predict_proba(X_valid,verbose = 1)"
      ],
      "execution_count": 34,
      "outputs": [
        {
          "output_type": "stream",
          "text": [
            "/usr/local/lib/python3.7/dist-packages/tensorflow/python/keras/engine/sequential.py:425: UserWarning: `model.predict_proba()` is deprecated and will be removed after 2021-01-01. Please use `model.predict()` instead.\n",
            "  warnings.warn('`model.predict_proba()` is deprecated and '\n"
          ],
          "name": "stderr"
        },
        {
          "output_type": "stream",
          "text": [
            "2285/2285 [==============================] - 2s 945us/step\n",
            "1126/1126 [==============================] - 1s 983us/step\n"
          ],
          "name": "stdout"
        }
      ]
    },
    {
      "cell_type": "code",
      "metadata": {
        "colab": {
          "base_uri": "https://localhost:8080/"
        },
        "id": "FtfSqQByVp1g",
        "outputId": "50dff0e0-52e2-4fd4-8ed9-9172567b3d37"
      },
      "source": [
        "thresh = (sum(y_train)/len(y_train))[0]\n",
        "thresh"
      ],
      "execution_count": 35,
      "outputs": [
        {
          "output_type": "execute_result",
          "data": {
            "text/plain": [
              "0.3147641457808909"
            ]
          },
          "metadata": {
            "tags": []
          },
          "execution_count": 35
        }
      ]
    },
    {
      "cell_type": "code",
      "metadata": {
        "colab": {
          "base_uri": "https://localhost:8080/"
        },
        "id": "y7KV3IZtVp1h",
        "outputId": "17a25db1-0f9d-435f-f89c-cc3328170e9d"
      },
      "source": [
        "print('Train');\n",
        "print_report(y_train, y_train_preds_dense, thresh)\n",
        "print('Valid');\n",
        "print_report(y_valid, y_valid_preds_dense, thresh);"
      ],
      "execution_count": 36,
      "outputs": [
        {
          "output_type": "stream",
          "text": [
            "Train\n",
            "AUC:0.992\n",
            "accuracy:0.970\n",
            "recall:0.953\n",
            "precision:0.952\n",
            "specificity:0.978\n",
            "prevalence:0.315\n",
            " \n",
            "Valid\n",
            "AUC:0.988\n",
            "accuracy:0.965\n",
            "recall:0.944\n",
            "precision:0.944\n",
            "specificity:0.974\n",
            "prevalence:0.314\n",
            " \n"
          ],
          "name": "stdout"
        }
      ]
    },
    {
      "cell_type": "markdown",
      "metadata": {
        "id": "QQ9-zHq6Vp1i"
      },
      "source": [
        "Amazing! Not that hard! But wait, will this work on new patients? Perhaps not if each patient has a unique heart signature. Technically the same patient can show up in both the training and validation sets. This means that we may have accidentally leaked information across the datasets. "
      ]
    },
    {
      "cell_type": "markdown",
      "metadata": {
        "id": "Phpol6SBVp1i"
      },
      "source": [
        "We can try this again by splitting on patients instead of samples. "
      ]
    },
    {
      "cell_type": "code",
      "metadata": {
        "colab": {
          "base_uri": "https://localhost:8080/"
        },
        "id": "l7shz0w0Vp1i",
        "outputId": "092404dc-c63b-4057-d66f-f4c1b401f4e5"
      },
      "source": [
        "import random\n",
        "random.seed( 42 )\n",
        "pts_train = random.sample(pts, 36)\n",
        "pts_valid = [pt for pt in pts if pt not in pts_train]\n",
        "print(len(pts_train), len(pts_valid))"
      ],
      "execution_count": 37,
      "outputs": [
        {
          "output_type": "stream",
          "text": [
            "36 12\n"
          ],
          "name": "stdout"
        }
      ]
    },
    {
      "cell_type": "code",
      "metadata": {
        "colab": {
          "base_uri": "https://localhost:8080/"
        },
        "id": "RuIxT7f8Vp1j",
        "outputId": "2cdab781-907c-4c20-93c2-746880eed220"
      },
      "source": [
        "X_train, y_train, sym_train = make_dataset(pts_train, num_sec, fs, abnormal)\n",
        "X_valid, y_valid, sym_valid = make_dataset(pts_valid, num_sec, fs, abnormal)\n",
        "print(X_train.shape, y_train.shape, len(sym_train))\n",
        "print(X_valid.shape, y_valid.shape, len(sym_valid))"
      ],
      "execution_count": 38,
      "outputs": [
        {
          "output_type": "stream",
          "text": [
            "(80614, 2160) (80614, 1) 80614\n",
            "(28485, 2160) (28485, 1) 28485\n"
          ],
          "name": "stdout"
        }
      ]
    },
    {
      "cell_type": "code",
      "metadata": {
        "colab": {
          "base_uri": "https://localhost:8080/"
        },
        "id": "gsJqBsVEVp1k",
        "outputId": "6bb2752e-232d-48f6-feb3-ae6963652794"
      },
      "source": [
        "# build the same model\n",
        "# lets test out relu (a different activation function) and add drop out (for regularization)\n",
        "model = Sequential()\n",
        "model.add(Dense(32, activation = 'relu', input_dim = X_train.shape[1]))\n",
        "model.add(Dropout(rate = 0.25))\n",
        "model.add(Dense(1, activation = 'sigmoid'))\n",
        "\n",
        "# compile the model - use categorical crossentropy, and the adam optimizer\n",
        "model.compile(\n",
        "                loss = 'binary_crossentropy',\n",
        "                optimizer = 'adam',\n",
        "                metrics = ['accuracy'])\n",
        "\n",
        "model.fit(X_train, y_train, batch_size = 32, epochs= 5, verbose = 1)"
      ],
      "execution_count": 39,
      "outputs": [
        {
          "output_type": "stream",
          "text": [
            "Epoch 1/5\n",
            "2520/2520 [==============================] - 6s 2ms/step - loss: 0.2928 - accuracy: 0.8889\n",
            "Epoch 2/5\n",
            "2520/2520 [==============================] - 6s 2ms/step - loss: 0.1469 - accuracy: 0.9559\n",
            "Epoch 3/5\n",
            "2520/2520 [==============================] - 6s 2ms/step - loss: 0.1232 - accuracy: 0.9650\n",
            "Epoch 4/5\n",
            "2520/2520 [==============================] - 6s 2ms/step - loss: 0.1119 - accuracy: 0.9684\n",
            "Epoch 5/5\n",
            "2520/2520 [==============================] - 6s 2ms/step - loss: 0.1075 - accuracy: 0.9692\n"
          ],
          "name": "stdout"
        },
        {
          "output_type": "execute_result",
          "data": {
            "text/plain": [
              "<tensorflow.python.keras.callbacks.History at 0x7f6a33044a10>"
            ]
          },
          "metadata": {
            "tags": []
          },
          "execution_count": 39
        }
      ]
    },
    {
      "cell_type": "code",
      "metadata": {
        "colab": {
          "base_uri": "https://localhost:8080/"
        },
        "id": "1SVEAIAtVp1l",
        "outputId": "9d30f901-7fed-4bc7-f763-331858fc4256"
      },
      "source": [
        "y_train_preds_dense = model.predict_proba(X_train,verbose = 1)\n",
        "y_valid_preds_dense = model.predict_proba(X_valid,verbose = 1)"
      ],
      "execution_count": 40,
      "outputs": [
        {
          "output_type": "stream",
          "text": [
            "/usr/local/lib/python3.7/dist-packages/tensorflow/python/keras/engine/sequential.py:425: UserWarning: `model.predict_proba()` is deprecated and will be removed after 2021-01-01. Please use `model.predict()` instead.\n",
            "  warnings.warn('`model.predict_proba()` is deprecated and '\n"
          ],
          "name": "stderr"
        },
        {
          "output_type": "stream",
          "text": [
            "2520/2520 [==============================] - 3s 1ms/step\n",
            "891/891 [==============================] - 1s 945us/step\n"
          ],
          "name": "stdout"
        }
      ]
    },
    {
      "cell_type": "code",
      "metadata": {
        "colab": {
          "base_uri": "https://localhost:8080/"
        },
        "id": "ZOLTtEQ1Vp1m",
        "outputId": "10993e1f-9f20-4028-f583-32fdca75900f"
      },
      "source": [
        "thresh = (sum(y_train)/len(y_train))[0]\n",
        "thresh"
      ],
      "execution_count": 41,
      "outputs": [
        {
          "output_type": "execute_result",
          "data": {
            "text/plain": [
              "0.29906715955045027"
            ]
          },
          "metadata": {
            "tags": []
          },
          "execution_count": 41
        }
      ]
    },
    {
      "cell_type": "code",
      "metadata": {
        "colab": {
          "base_uri": "https://localhost:8080/"
        },
        "id": "GActAqHIVp1n",
        "outputId": "e3fa175f-58d7-4f28-e512-4f8cab7faea3"
      },
      "source": [
        "print('Train');\n",
        "print_report(y_train, y_train_preds_dense, thresh)\n",
        "print('Valid');\n",
        "print_report(y_valid, y_valid_preds_dense, thresh);"
      ],
      "execution_count": 42,
      "outputs": [
        {
          "output_type": "stream",
          "text": [
            "Train\n",
            "AUC:0.993\n",
            "accuracy:0.978\n",
            "recall:0.957\n",
            "precision:0.968\n",
            "specificity:0.987\n",
            "prevalence:0.299\n",
            " \n",
            "Valid\n",
            "AUC:0.841\n",
            "accuracy:0.755\n",
            "recall:0.431\n",
            "precision:0.790\n",
            "specificity:0.936\n",
            "prevalence:0.358\n",
            " \n"
          ],
          "name": "stdout"
        }
      ]
    },
    {
      "cell_type": "markdown",
      "metadata": {
        "id": "US2FEM2dVp1n"
      },
      "source": [
        "Validation score is much different now! Makes sense since we had data leakage before. "
      ]
    },
    {
      "cell_type": "markdown",
      "metadata": {
        "id": "gwGchD4fVp1n"
      },
      "source": [
        "# Lesson 2: learning curve can tells us we should get more data! "
      ]
    },
    {
      "cell_type": "markdown",
      "metadata": {
        "id": "SX6vmwIwVp1o"
      },
      "source": [
        "Given the overfitting between training and validation. Let's make a simple learning curve to see if we should go collect more data. "
      ]
    },
    {
      "cell_type": "code",
      "metadata": {
        "colab": {
          "base_uri": "https://localhost:8080/"
        },
        "id": "69d65AU8Vp1o",
        "outputId": "9b7f4c56-f4ab-4fa9-9f7e-f141871d2ed0"
      },
      "source": [
        "aucs_train = []\n",
        "aucs_valid = []\n",
        "\n",
        "n_pts = [1,18,36]\n",
        "for n_pt in n_pts:\n",
        "    \n",
        "    print(n_pt)\n",
        "    pts_sub = pts_train[:n_pt]\n",
        "    X_sub, y_sub, sym_sub = make_dataset(pts_sub, num_sec, fs,abnormal)\n",
        "\n",
        "    # build the same model\n",
        "    # lets test out relu (a different activation function) and add drop out (for regularization)\n",
        "    model = Sequential()\n",
        "    model.add(Dense(32, activation = 'relu', input_dim = X_train.shape[1]))\n",
        "    model.add(Dropout(rate = 0.25))\n",
        "    model.add(Dense(1, activation = 'sigmoid'))\n",
        "\n",
        "    # compile the model - use categorical crossentropy, and the adam optimizer\n",
        "    model.compile(\n",
        "                    loss = 'binary_crossentropy',\n",
        "                    optimizer = 'adam',\n",
        "                    metrics = ['accuracy'])\n",
        "\n",
        "    model.fit(X_sub, y_sub, batch_size = 32, epochs= 5, verbose = 0)\n",
        "    y_sub_preds_dense = model.predict_proba(X_sub,verbose = 0)\n",
        "    y_valid_preds_dense = model.predict_proba(X_valid,verbose = 0)\n",
        "    \n",
        "    auc_train = roc_auc_score(y_sub, y_sub_preds_dense)\n",
        "    auc_valid = roc_auc_score(y_valid, y_valid_preds_dense)\n",
        "    print('-',auc_train, auc_valid)\n",
        "    aucs_train.append(auc_train)\n",
        "    aucs_valid.append(auc_valid)"
      ],
      "execution_count": 43,
      "outputs": [
        {
          "output_type": "stream",
          "text": [
            "1\n"
          ],
          "name": "stdout"
        },
        {
          "output_type": "stream",
          "text": [
            "/usr/local/lib/python3.7/dist-packages/tensorflow/python/keras/engine/sequential.py:425: UserWarning: `model.predict_proba()` is deprecated and will be removed after 2021-01-01. Please use `model.predict()` instead.\n",
            "  warnings.warn('`model.predict_proba()` is deprecated and '\n"
          ],
          "name": "stderr"
        },
        {
          "output_type": "stream",
          "text": [
            "- 0.9309648240857189 0.7116252325148935\n",
            "18\n"
          ],
          "name": "stdout"
        },
        {
          "output_type": "stream",
          "text": [
            "/usr/local/lib/python3.7/dist-packages/tensorflow/python/keras/engine/sequential.py:425: UserWarning: `model.predict_proba()` is deprecated and will be removed after 2021-01-01. Please use `model.predict()` instead.\n",
            "  warnings.warn('`model.predict_proba()` is deprecated and '\n"
          ],
          "name": "stderr"
        },
        {
          "output_type": "stream",
          "text": [
            "- 0.9956444711764363 0.7887303004211748\n",
            "36\n"
          ],
          "name": "stdout"
        },
        {
          "output_type": "stream",
          "text": [
            "/usr/local/lib/python3.7/dist-packages/tensorflow/python/keras/engine/sequential.py:425: UserWarning: `model.predict_proba()` is deprecated and will be removed after 2021-01-01. Please use `model.predict()` instead.\n",
            "  warnings.warn('`model.predict_proba()` is deprecated and '\n"
          ],
          "name": "stderr"
        },
        {
          "output_type": "stream",
          "text": [
            "- 0.9936082339136327 0.8725543723525748\n"
          ],
          "name": "stdout"
        }
      ]
    },
    {
      "cell_type": "code",
      "metadata": {
        "colab": {
          "base_uri": "https://localhost:8080/",
          "height": 279
        },
        "id": "g1EiWwyLVp1o",
        "outputId": "2ba760fe-0b42-4679-c9e4-350ded050d1d"
      },
      "source": [
        "plt.plot(n_pts, aucs_train, 'o-',label = 'Train')\n",
        "plt.plot(n_pts, aucs_valid, 'o-',label = 'Valid')\n",
        "plt.xlabel('Number Training Pts')\n",
        "plt.ylabel('AUC')\n",
        "plt.legend(bbox_to_anchor = (1.04,1), loc = 'upper left')\n",
        "plt.show()"
      ],
      "execution_count": 44,
      "outputs": [
        {
          "output_type": "display_data",
          "data": {
            "image/png": "[encoded data removed]",
            "text/plain": [
              "<Figure size 432x288 with 1 Axes>"
            ]
          },
          "metadata": {
            "tags": [],
            "needs_background": "light"
          }
        }
      ]
    },
    {
      "cell_type": "markdown",
      "metadata": {
        "id": "UYqocHziVp1p"
      },
      "source": [
        "More data appears to add extra value to the model. "
      ]
    },
    {
      "cell_type": "markdown",
      "metadata": {
        "id": "2KqTTBIjVp1p"
      },
      "source": [
        "# Lesson 3: test multiple types of deep learning models"
      ]
    },
    {
      "cell_type": "markdown",
      "metadata": {
        "id": "kBeOfi5eVp1p"
      },
      "source": [
        "## CNN"
      ]
    },
    {
      "cell_type": "markdown",
      "metadata": {
        "id": "G1Mn9uaJVp1q"
      },
      "source": [
        "Let's start by making a CNN. Here we will use a 1 dimensional CNN (as opposed to the 2D CNN for images). "
      ]
    },
    {
      "cell_type": "markdown",
      "metadata": {
        "id": "tNI2Nrl5Vp1q"
      },
      "source": [
        "A CNN is a special type of deep learning algorithm which uses a set of filters and the convolution operator to reduce the number of parameters. This algorithm sparked the state-of-the-art techniques for image classification. Essentially, the way this works for 1D CNN is to take a filter (kernel) of size `kernel_size` starting with the first time stamp. The convolution operator takes the filter and multiplies each element against the first `kernel_size` time steps. These products are then summed for the first cell in the next layer of the neural network. The filter then moves over by `stride` time steps and repeats. The default `stride` in Keras is 1, which we will use. In image classification, most people use `padding` which allows you pick up some features on the edges of the image by adding 'extra' cells, we will use the default padding which is 0. The output of the convolution is then multiplied by a set of weights W and added to a bias b and then passed through a non-linear activation function as in dense neural network. You can then repeat this with addition CNN layers if desired. Here we will use Dropout which is a technique for reducing overfitting by randomly removing some nodes. "
      ]
    },
    {
      "cell_type": "code",
      "metadata": {
        "colab": {
          "base_uri": "https://localhost:8080/"
        },
        "id": "VD009gu0Vp1q",
        "outputId": "4a6179dc-fb09-4f24-a499-5a0e52b79962"
      },
      "source": [
        "# reshape input to be [samples, time steps, features = 1]\n",
        "X_train_cnn = np.reshape(X_train, (X_train.shape[0], X_train.shape[1], 1))\n",
        "X_valid_cnn = np.reshape(X_valid, (X_valid.shape[0], X_valid.shape[1], 1))\n",
        "\n",
        "print(X_train_cnn.shape)\n",
        "print(X_valid_cnn.shape)\n"
      ],
      "execution_count": 45,
      "outputs": [
        {
          "output_type": "stream",
          "text": [
            "(80614, 2160, 1)\n",
            "(28485, 2160, 1)\n"
          ],
          "name": "stdout"
        }
      ]
    },
    {
      "cell_type": "code",
      "metadata": {
        "id": "fUHY8lPsVp1q"
      },
      "source": [
        "from keras.layers import Conv1D"
      ],
      "execution_count": 46,
      "outputs": []
    },
    {
      "cell_type": "code",
      "metadata": {
        "id": "5bfspXzNVp1r"
      },
      "source": [
        "model = Sequential()\n",
        "model.add(Conv1D(filters = 128, kernel_size = 5, activation = 'relu', input_shape = (2160,1)))\n",
        "model.add(Dropout(rate = 0.25))\n",
        "model.add(Flatten())\n",
        "model.add(Dense(1, activation = 'sigmoid'))\n",
        "\n",
        "# compile the model - use categorical crossentropy, and the adam optimizer\n",
        "model.compile(\n",
        "                loss = 'binary_crossentropy',\n",
        "                optimizer = 'adam',\n",
        "                metrics = ['accuracy'])"
      ],
      "execution_count": 47,
      "outputs": []
    },
    {
      "cell_type": "code",
      "metadata": {
        "id": "S__44gIIVp1r",
        "outputId": "bf457843-484c-49fb-9948-7e56dab3f294"
      },
      "source": [
        "model.fit(X_train_cnn, y_train, batch_size = 32, epochs= 2, verbose = 1)"
      ],
      "execution_count": null,
      "outputs": [
        {
          "output_type": "stream",
          "text": [
            "Epoch 1/2\n",
            "80614/80614 [==============================] - 462s 6ms/step - loss: 0.1963 - acc: 0.9338\n",
            "Epoch 2/2\n",
            "80614/80614 [==============================] - 407s 5ms/step - loss: 0.1204 - acc: 0.9641\n"
          ],
          "name": "stdout"
        },
        {
          "output_type": "execute_result",
          "data": {
            "text/plain": [
              "<keras.callbacks.History at 0x125efa080>"
            ]
          },
          "metadata": {
            "tags": []
          },
          "execution_count": 42
        }
      ]
    },
    {
      "cell_type": "code",
      "metadata": {
        "colab": {
          "base_uri": "https://localhost:8080/"
        },
        "id": "DtbTCqQUVp1r",
        "outputId": "e93e72d7-8b58-44c6-af6e-e5d9bd7f046d"
      },
      "source": [
        "y_train_preds_cnn = model.predict_proba(X_train_cnn,verbose = 1)\n",
        "y_valid_preds_cnn = model.predict_proba(X_valid_cnn,verbose = 1)"
      ],
      "execution_count": 48,
      "outputs": [
        {
          "output_type": "stream",
          "text": [
            "/usr/local/lib/python3.7/dist-packages/tensorflow/python/keras/engine/sequential.py:425: UserWarning: `model.predict_proba()` is deprecated and will be removed after 2021-01-01. Please use `model.predict()` instead.\n",
            "  warnings.warn('`model.predict_proba()` is deprecated and '\n"
          ],
          "name": "stderr"
        },
        {
          "output_type": "stream",
          "text": [
            "2520/2520 [==============================] - 67s 27ms/step\n",
            "891/891 [==============================] - 24s 26ms/step\n"
          ],
          "name": "stdout"
        }
      ]
    },
    {
      "cell_type": "code",
      "metadata": {
        "colab": {
          "base_uri": "https://localhost:8080/"
        },
        "id": "9DHwZ9VSVp1s",
        "outputId": "6f250567-8508-4924-af3e-3683f2f6565b"
      },
      "source": [
        "print('Train');\n",
        "print_report(y_train, y_train_preds_cnn, thresh)\n",
        "print('Valid');\n",
        "print_report(y_valid, y_valid_preds_cnn, thresh);"
      ],
      "execution_count": 49,
      "outputs": [
        {
          "output_type": "stream",
          "text": [
            "Train\n",
            "AUC:0.531\n",
            "accuracy:0.299\n",
            "recall:1.000\n",
            "precision:0.299\n",
            "specificity:0.000\n",
            "prevalence:0.299\n",
            " \n",
            "Valid\n",
            "AUC:0.559\n",
            "accuracy:0.358\n",
            "recall:1.000\n",
            "precision:0.358\n",
            "specificity:0.000\n",
            "prevalence:0.358\n",
            " \n"
          ],
          "name": "stdout"
        }
      ]
    },
    {
      "cell_type": "markdown",
      "metadata": {
        "id": "sxyhQViaVp1s"
      },
      "source": [
        "## LSTM"
      ]
    },
    {
      "cell_type": "code",
      "metadata": {
        "id": "XM6NAZmuVp1s"
      },
      "source": [
        ""
      ],
      "execution_count": 49,
      "outputs": []
    },
    {
      "cell_type": "code",
      "metadata": {
        "id": "y57-IjuAVp1t"
      },
      "source": [
        "from keras.layers import Bidirectional, LSTM"
      ],
      "execution_count": 50,
      "outputs": []
    },
    {
      "cell_type": "code",
      "metadata": {
        "id": "JSjfWSX9Vp1t"
      },
      "source": [
        "model = Sequential()\n",
        "model.add(Bidirectional(LSTM(64, input_shape=(X_train_cnn.shape[1], X_train_cnn.shape[2]))))\n",
        "model.add(Dropout(rate = 0.25))\n",
        "model.add(Dense(1, activation = 'sigmoid'))\n",
        "model.compile(\n",
        "                loss = 'binary_crossentropy',\n",
        "                optimizer = 'adam',\n",
        "                metrics = ['accuracy'])"
      ],
      "execution_count": 51,
      "outputs": []
    },
    {
      "cell_type": "markdown",
      "metadata": {
        "id": "kJvMbcMUVp1t"
      },
      "source": [
        "Reduce dataset to make this feasible for weekend project"
      ]
    },
    {
      "cell_type": "code",
      "metadata": {
        "colab": {
          "base_uri": "https://localhost:8080/"
        },
        "id": "gfahuodyVp1t",
        "outputId": "3b559341-1ec6-4881-e3d2-c514bef23a76"
      },
      "source": [
        "model.fit(X_train_cnn[:10000], y_train[:10000], batch_size = 32, epochs= 1, verbose = 1)"
      ],
      "execution_count": 52,
      "outputs": [
        {
          "output_type": "stream",
          "text": [
            "313/313 [==============================] - 495s 2s/step - loss: 0.5907 - accuracy: 0.6613\n"
          ],
          "name": "stdout"
        },
        {
          "output_type": "execute_result",
          "data": {
            "text/plain": [
              "<tensorflow.python.keras.callbacks.History at 0x7f6a2eb70090>"
            ]
          },
          "metadata": {
            "tags": []
          },
          "execution_count": 52
        }
      ]
    },
    {
      "cell_type": "code",
      "metadata": {
        "colab": {
          "base_uri": "https://localhost:8080/"
        },
        "id": "6NmP4F4MVp1u",
        "outputId": "8bd1e208-5718-41b0-fc42-21276743ae08"
      },
      "source": [
        "y_train_preds_lstm = model.predict_proba(X_train_cnn[:10000],verbose = 1)\n",
        "y_valid_preds_lstm = model.predict_proba(X_valid_cnn,verbose = 1)"
      ],
      "execution_count": 53,
      "outputs": [
        {
          "output_type": "stream",
          "text": [
            "/usr/local/lib/python3.7/dist-packages/tensorflow/python/keras/engine/sequential.py:425: UserWarning: `model.predict_proba()` is deprecated and will be removed after 2021-01-01. Please use `model.predict()` instead.\n",
            "  warnings.warn('`model.predict_proba()` is deprecated and '\n"
          ],
          "name": "stderr"
        },
        {
          "output_type": "stream",
          "text": [
            "313/313 [==============================] - 94s 299ms/step\n",
            "891/891 [==============================] - 266s 298ms/step\n"
          ],
          "name": "stdout"
        }
      ]
    },
    {
      "cell_type": "code",
      "metadata": {
        "colab": {
          "base_uri": "https://localhost:8080/"
        },
        "id": "rBNChiVHVp1u",
        "outputId": "42f3d3c1-ac64-41e2-8e16-39e228b011b3"
      },
      "source": [
        "print('Train');\n",
        "print_report(y_train[:10000], y_train_preds_lstm, thresh)\n",
        "print('Valid');\n",
        "print_report(y_valid, y_valid_preds_lstm, thresh);"
      ],
      "execution_count": 54,
      "outputs": [
        {
          "output_type": "stream",
          "text": [
            "Train\n",
            "AUC:0.852\n",
            "accuracy:0.713\n",
            "recall:0.871\n",
            "precision:0.655\n",
            "specificity:0.561\n",
            "prevalence:0.489\n",
            " \n",
            "Valid\n",
            "AUC:0.435\n",
            "accuracy:0.506\n",
            "recall:0.348\n",
            "precision:0.323\n",
            "specificity:0.594\n",
            "prevalence:0.358\n",
            " \n"
          ],
          "name": "stdout"
        }
      ]
    },
    {
      "cell_type": "code",
      "metadata": {
        "colab": {
          "base_uri": "https://localhost:8080/",
          "height": 295
        },
        "id": "JcP2RYamVp1u",
        "outputId": "90907551-59b9-433d-e3e2-5e09eca9683b"
      },
      "source": [
        "from sklearn.metrics import roc_curve, roc_auc_score\n",
        "\n",
        "\n",
        "fpr_valid_cnn, tpr_valid_cnn, t_valid_cnn = roc_curve(y_valid, y_valid_preds_cnn)\n",
        "auc_valid_cnn = roc_auc_score(y_valid, y_valid_preds_cnn)\n",
        "\n",
        "fpr_valid_dense, tpr_valid_dense, t_valid_dense = roc_curve(y_valid, y_valid_preds_dense)\n",
        "auc_valid_dense = roc_auc_score(y_valid, y_valid_preds_dense)\n",
        "\n",
        "fpr_valid_lstm, tpr_valid_lstm, t_valid_lstm = roc_curve(y_valid, y_valid_preds_lstm)\n",
        "auc_valid_lstm = roc_auc_score(y_valid, y_valid_preds_lstm)\n",
        "\n",
        "plt.plot(fpr_valid_cnn, tpr_valid_cnn, 'g-', label = 'CNN AUC:%.3f'%auc_valid_cnn)\n",
        "plt.plot(fpr_valid_dense, tpr_valid_dense, 'r-', label = 'Dense AUC:%.3f'%auc_valid_dense)\n",
        "plt.plot(fpr_valid_lstm, tpr_valid_lstm, 'b-', label = 'LSTM AUC:%.3f'%auc_valid_lstm)\n",
        "\n",
        "plt.plot([0,1],[0,1], 'k--')\n",
        "plt.xlabel('FPR')\n",
        "plt.ylabel('TPR')\n",
        "plt.legend(bbox_to_anchor = (1.04,1), loc = 'upper left')\n",
        "plt.title('Validation Set')\n",
        "plt.show()"
      ],
      "execution_count": 55,
      "outputs": [
        {
          "output_type": "display_data",
          "data": {
            "image/png": "[encoded data removed]",
            "text/plain": [
              "<Figure size 432x288 with 1 Axes>"
            ]
          },
          "metadata": {
            "tags": [],
            "needs_background": "light"
          }
        }
      ]
    },
    {
      "cell_type": "code",
      "metadata": {
        "id": "zeqJzj2FVp1v"
      },
      "source": [
        ""
      ],
      "execution_count": 55,
      "outputs": []
    },
    {
      "cell_type": "code",
      "metadata": {
        "id": "I5L2sVN8Vp1v"
      },
      "source": [
        ""
      ],
      "execution_count": 55,
      "outputs": []
    }
  ]
}